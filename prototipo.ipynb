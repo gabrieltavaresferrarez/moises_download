{
 "cells": [
  {
   "cell_type": "code",
   "execution_count": 2,
   "id": "4887a643",
   "metadata": {},
   "outputs": [],
   "source": [
    "#================= SETUP ===================\n",
    "import os\n",
    "import logging\n",
    "from pathlib import Path\n",
    "\n",
    "\n",
    "\n",
    "# Configuração do logging\n",
    "logging.basicConfig(\n",
    "    filename='LOGGER.log',\n",
    "    level=logging.DEBUG,\n",
    "    format='%(asctime)s - %(levelname)s - %(message)s'\n",
    ")\n",
    "\n",
    "# Pasta onde salvar o áudio\n",
    "path_outputFolder = Path('yt_downloads')\n",
    "\n",
    "# Cria a pasta se não existir\n",
    "logging.debug(f'Creating folder {path_outputFolder}')\n",
    "os.makedirs(path_outputFolder, exist_ok=True)\n"
   ]
  },
  {
   "cell_type": "code",
   "execution_count": null,
   "id": "60bf3010",
   "metadata": {},
   "outputs": [
    {
     "name": "stdout",
     "output_type": "stream",
     "text": [
      "Baixando: fhop music | OS QUE OLHAM PARA TI (Ao Vivo)\n",
      "Download completo.\n"
     ]
    }
   ],
   "source": [
    "import os\n",
    "import logging\n",
    "from pytubefix import YouTube\n",
    "\n",
    "# Link do vídeo\n",
    "list_urls = ['https://www.youtube.com/watch?v=Dv-7mBQNEIo']\n",
    "\n",
    "# Pasta onde salvar o áudio\n",
    "output_folder = 'yt_downloads'\n",
    "\n",
    "# Cria a pasta se não existir\n",
    "os.makedirs(output_folder, exist_ok=True)\n",
    "\n",
    "\n",
    "for url in list_urls:\n",
    "    # Faz o download\n",
    "    yt = YouTube(url)\n",
    "    audio_stream = yt.streams.filter(only_audio=True).first()\n",
    "\n",
    "    print(f\"Baixando: {yt.title}\")\n",
    "    audio_stream.download(output_path=output_folder)\n",
    "    print(\"Download completo.\")"
   ]
  }
 ],
 "metadata": {
  "kernelspec": {
   "display_name": "Python 3",
   "language": "python",
   "name": "python3"
  },
  "language_info": {
   "codemirror_mode": {
    "name": "ipython",
    "version": 3
   },
   "file_extension": ".py",
   "mimetype": "text/x-python",
   "name": "python",
   "nbconvert_exporter": "python",
   "pygments_lexer": "ipython3",
   "version": "3.11.2"
  }
 },
 "nbformat": 4,
 "nbformat_minor": 5
}
